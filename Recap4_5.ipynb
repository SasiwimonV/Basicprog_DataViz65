{
  "nbformat": 4,
  "nbformat_minor": 0,
  "metadata": {
    "colab": {
      "name": "Recap4-5.ipynb",
      "provenance": [],
      "authorship_tag": "ABX9TyOjtb0XV8jx+vXrIl7toor8",
      "include_colab_link": true
    },
    "kernelspec": {
      "name": "python3",
      "display_name": "Python 3"
    },
    "language_info": {
      "name": "python"
    }
  },
  "cells": [
    {
      "cell_type": "markdown",
      "metadata": {
        "id": "view-in-github",
        "colab_type": "text"
      },
      "source": [
        "<a href=\"https://colab.research.google.com/github/SasiwimonV/Basicprog_DataViz65/blob/main/Recap4_5.ipynb\" target=\"_parent\"><img src=\"https://colab.research.google.com/assets/colab-badge.svg\" alt=\"Open In Colab\"/></a>"
      ]
    },
    {
      "cell_type": "markdown",
      "source": [
        "##Matrix Slicing"
      ],
      "metadata": {
        "id": "VoyeiLUUDb-3"
      }
    },
    {
      "cell_type": "code",
      "source": [
        "import numpy"
      ],
      "metadata": {
        "id": "WXZ79vFoDlbf"
      },
      "execution_count": 10,
      "outputs": []
    },
    {
      "cell_type": "code",
      "source": [
        "list_a = [[2,4,5],[1,2,3],[9,8,7],[3,6,9]]\n",
        "mat_a = numpy.array(list_a)\n",
        "mat_a"
      ],
      "metadata": {
        "colab": {
          "base_uri": "https://localhost:8080/"
        },
        "id": "49bJV1VKDpra",
        "outputId": "686421d8-0d49-48eb-9c59-031fd5b451fd"
      },
      "execution_count": 11,
      "outputs": [
        {
          "output_type": "execute_result",
          "data": {
            "text/plain": [
              "array([[2, 4, 5],\n",
              "       [1, 2, 3],\n",
              "       [9, 8, 7],\n",
              "       [3, 6, 9]])"
            ]
          },
          "metadata": {},
          "execution_count": 11
        }
      ]
    },
    {
      "cell_type": "code",
      "source": [
        "import numpy as np"
      ],
      "metadata": {
        "id": "4dGEa9SiFBh1"
      },
      "execution_count": 5,
      "outputs": []
    },
    {
      "cell_type": "code",
      "source": [
        "list_b = [[-1,-1,2,4,5],[-2,-2,1,2,3],[-3,-3,9,8,7],[-4,-4,3,6,9]]\n",
        "mat_b = np.array(list_b)\n",
        "mat_b"
      ],
      "metadata": {
        "colab": {
          "base_uri": "https://localhost:8080/"
        },
        "id": "onMbH3IoFFIT",
        "outputId": "15327be4-2c0d-4214-aa7f-eeb7a40268ca"
      },
      "execution_count": 6,
      "outputs": [
        {
          "output_type": "execute_result",
          "data": {
            "text/plain": [
              "array([[-1, -1,  2,  4,  5],\n",
              "       [-2, -2,  1,  2,  3],\n",
              "       [-3, -3,  9,  8,  7],\n",
              "       [-4, -4,  3,  6,  9]])"
            ]
          },
          "metadata": {},
          "execution_count": 6
        }
      ]
    },
    {
      "cell_type": "markdown",
      "source": [
        "##Quiz2"
      ],
      "metadata": {
        "id": "ZRfNOazZGU93"
      }
    },
    {
      "cell_type": "markdown",
      "source": [
        "1.slice ค่าลบออกมานาก mat_b\n",
        "\n",
        "2.slice [1,2,3] จาก mat_a\n",
        "\n",
        "3.slice [[1,3],[9,7],[3,9]] ออกมาจาก mat_b"
      ],
      "metadata": {
        "id": "GKmcyuFMGagv"
      }
    },
    {
      "cell_type": "code",
      "source": [
        "#ข้อ1\n",
        "mat_b [:5,:2]"
      ],
      "metadata": {
        "colab": {
          "base_uri": "https://localhost:8080/"
        },
        "id": "t-KOXPqKJHvE",
        "outputId": "3761fbee-428b-485b-f3b6-3a59562603fd"
      },
      "execution_count": 7,
      "outputs": [
        {
          "output_type": "execute_result",
          "data": {
            "text/plain": [
              "array([[-1, -1],\n",
              "       [-2, -2],\n",
              "       [-3, -3],\n",
              "       [-4, -4]])"
            ]
          },
          "metadata": {},
          "execution_count": 7
        }
      ]
    },
    {
      "cell_type": "code",
      "source": [
        "#ข้อ2\n",
        "mat_a[1:2,:4]"
      ],
      "metadata": {
        "colab": {
          "base_uri": "https://localhost:8080/"
        },
        "id": "o5EkYIemJTs8",
        "outputId": "60d49858-bfb3-4025-e5d3-9ef3305fe6f1"
      },
      "execution_count": 12,
      "outputs": [
        {
          "output_type": "execute_result",
          "data": {
            "text/plain": [
              "array([[1, 2, 3]])"
            ]
          },
          "metadata": {},
          "execution_count": 12
        }
      ]
    },
    {
      "cell_type": "code",
      "source": [
        "#ข้อ3\n",
        "mat_b[1:4,2:5:2]"
      ],
      "metadata": {
        "colab": {
          "base_uri": "https://localhost:8080/"
        },
        "id": "zGABDb6RJuvp",
        "outputId": "ce6b675b-becb-4a6e-8b6d-40e92dd6493a"
      },
      "execution_count": 13,
      "outputs": [
        {
          "output_type": "execute_result",
          "data": {
            "text/plain": [
              "array([[1, 3],\n",
              "       [9, 7],\n",
              "       [3, 9]])"
            ]
          },
          "metadata": {},
          "execution_count": 13
        }
      ]
    },
    {
      "cell_type": "markdown",
      "source": [
        "##HW1\n",
        "\n",
        "เขียน function แสดงความต่างของเวลา (Quiz1) โดย input อยู่ในรูปแบบ '09:11:50 - 12:30:15'\n",
        "\n",
        "และทดลองรัน\n",
        "\n",
        "'09:11:50 - 12:30:15'\n",
        "\n",
        "'13:41:07 - 20:00:18'\n",
        "\n",
        "'00:00:00 - 23:59:59'\n"
      ],
      "metadata": {
        "id": "oEnBBx-IgFRQ"
      }
    },
    {
      "cell_type": "code",
      "source": [
        "def print_time(mytime):\n",
        "    start=mytime.split(\"-\")  \n",
        "    time1=start[0] \n",
        "    sp_time1=time1.split(\":\") \n",
        "    time2=start[1] \n",
        "    sp_time2=time2.split(\":\") \n",
        "    x1 = (int(sp_time1[0])*3600)+(int(sp_time1[1])*60)+int(sp_time1[2])\n",
        "    x2 = (int(sp_time2[0])*3600)+(int(sp_time2[1])*60)+int(sp_time2[2])\n",
        "    time3 = x2-x1\n",
        "    print(f'{time1}-{time2} ความต่างของเวลา = {time3} วินาที')"
      ],
      "metadata": {
        "id": "0h_CB8XigMxc"
      },
      "execution_count": 5,
      "outputs": []
    },
    {
      "cell_type": "code",
      "source": [
        "print_time(\"09:11:50-12:30:15\")"
      ],
      "metadata": {
        "colab": {
          "base_uri": "https://localhost:8080/"
        },
        "id": "ihgZQbwjczyf",
        "outputId": "1b36715e-a79f-4e4c-8400-ab4fd405ad25"
      },
      "execution_count": 6,
      "outputs": [
        {
          "output_type": "stream",
          "name": "stdout",
          "text": [
            "09:11:50-12:30:15 ความต่างของเวลา = 11905 วินาที\n"
          ]
        }
      ]
    },
    {
      "cell_type": "code",
      "source": [
        "print_time(\"13:41:07 - 20:00:18\")"
      ],
      "metadata": {
        "colab": {
          "base_uri": "https://localhost:8080/"
        },
        "id": "VAcqtEbic31q",
        "outputId": "1cb802e5-2dc0-4773-f982-133ed72e1a4c"
      },
      "execution_count": 3,
      "outputs": [
        {
          "output_type": "stream",
          "name": "stdout",
          "text": [
            "13:41:07 - 20:00:18 ความต่างของเวลา = 22751 วินาที\n"
          ]
        }
      ]
    },
    {
      "cell_type": "code",
      "source": [
        "print_time(\"00:00:00 - 23:59:59\")"
      ],
      "metadata": {
        "colab": {
          "base_uri": "https://localhost:8080/"
        },
        "id": "IQTHMsCNc8nS",
        "outputId": "4a7de9d1-eb17-42e9-bbec-41bbf531be6f"
      },
      "execution_count": 4,
      "outputs": [
        {
          "output_type": "stream",
          "name": "stdout",
          "text": [
            "00:00:00 - 23:59:59 ความต่างของเวลา = 86399 วินาที\n"
          ]
        }
      ]
    }
  ]
}