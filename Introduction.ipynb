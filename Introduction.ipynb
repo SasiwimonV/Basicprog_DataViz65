{
  "nbformat": 4,
  "nbformat_minor": 0,
  "metadata": {
    "colab": {
      "name": "Introduction.ipynb",
      "provenance": [],
      "authorship_tag": "ABX9TyNPHuAn1xFFCw5FKePQlrkM",
      "include_colab_link": true
    },
    "kernelspec": {
      "name": "python3",
      "display_name": "Python 3"
    },
    "language_info": {
      "name": "python"
    }
  },
  "cells": [
    {
      "cell_type": "markdown",
      "metadata": {
        "id": "view-in-github",
        "colab_type": "text"
      },
      "source": [
        "<a href=\"https://colab.research.google.com/github/SasiwimonV/Basicprog_DataViz65/blob/main/Introduction.ipynb\" target=\"_parent\"><img src=\"https://colab.research.google.com/assets/colab-badge.svg\" alt=\"Open In Colab\"/></a>"
      ]
    },
    {
      "cell_type": "code",
      "execution_count": 2,
      "metadata": {
        "id": "_q5jrqOSFHLe"
      },
      "outputs": [],
      "source": [
        ""
      ]
    },
    {
      "cell_type": "code",
      "source": [
        "print('sasiwimon')"
      ],
      "metadata": {
        "colab": {
          "base_uri": "https://localhost:8080/"
        },
        "id": "qXIMfbcQHDfg",
        "outputId": "49af15f3-d031-46ec-cc17-0a65fe568045"
      },
      "execution_count": 2,
      "outputs": [
        {
          "output_type": "stream",
          "name": "stdout",
          "text": [
            "sasiwimon\n"
          ]
        }
      ]
    },
    {
      "cell_type": "markdown",
      "source": [
        "#Markdown"
      ],
      "metadata": {
        "id": "W7WaiekSHvmx"
      }
    },
    {
      "cell_type": "markdown",
      "source": [
        "##heading2"
      ],
      "metadata": {
        "id": "8E0TkJMbH1Hw"
      }
    },
    {
      "cell_type": "markdown",
      "source": [
        "ศศิวิมล วิลาชัย (633021023-0)"
      ],
      "metadata": {
        "id": "w24qDW6-FcE0"
      }
    }
  ]
}