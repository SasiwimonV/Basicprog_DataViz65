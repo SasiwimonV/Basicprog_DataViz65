{
  "nbformat": 4,
  "nbformat_minor": 0,
  "metadata": {
    "colab": {
      "name": "สำเนาของ Recap 1-3 Quiz1.ipynb",
      "provenance": [],
      "include_colab_link": true
    },
    "kernelspec": {
      "name": "python3",
      "display_name": "Python 3"
    },
    "language_info": {
      "name": "python"
    }
  },
  "cells": [
    {
      "cell_type": "markdown",
      "metadata": {
        "id": "view-in-github",
        "colab_type": "text"
      },
      "source": [
        "<a href=\"https://colab.research.google.com/github/SasiwimonV/Basicprog_DataViz65/blob/main/Recap_1_3_Quiz1.ipynb\" target=\"_parent\"><img src=\"https://colab.research.google.com/assets/colab-badge.svg\" alt=\"Open In Colab\"/></a>"
      ]
    },
    {
      "cell_type": "markdown",
      "source": [
        "Quiz 1 \n",
        "\n",
        "คำนวณเวลาเป็นความต่างของเวลาเป็นวินาทีของช่วงเวลาต่อไปนี้โดยใช้คำสั่ง split() ช่วย และ print ออกมาให้สวยงาม\n",
        "\n",
        "* 09:11:50 - 12:30:15\n",
        "* 13:41:07 - 20:00:18\n",
        "* 21:30:15 - 00:00:00\n",
        "* 00:00:00 - 23:59:59\n",
        "\n",
        "\n",
        "\n",
        "\n",
        "\n"
      ],
      "metadata": {
        "id": "FKKg2s03yfKC"
      }
    },
    {
      "cell_type": "code",
      "source": [
        "a1 = '09:11:50'\n",
        "a1_sp = a1.split(':')\n",
        "print(a1_sp)\n",
        "AW1= int(a1_sp[0])*3600+int (a1_sp[1])*60+int (a1_sp[2])\n",
        "\n",
        "b1 = '12:30:15'\n",
        "b1_sp = b1.split(':')\n",
        "print(b1_sp)\n",
        "AW2= int(b1_sp[0])*3600+int (b1_sp[1])*60+int (b1_sp[2])\n",
        "print(f'{a1} - {b1} ความต่างของเวลาเป็นวินาทีเท่ากับ {AW2-AW1} วินาที')"
      ],
      "metadata": {
        "colab": {
          "base_uri": "https://localhost:8080/"
        },
        "id": "KQldvVvqNmt2",
        "outputId": "000ee4e9-9e8f-446a-babb-4990b861c05f"
      },
      "execution_count": null,
      "outputs": [
        {
          "output_type": "stream",
          "name": "stdout",
          "text": [
            "['09', '11', '50']\n",
            "['12', '30', '15']\n",
            "09:11:50 - 12:30:15 ความต่างของเวลาเป็นวินาทีเท่ากับ 11905 วินาที\n"
          ]
        }
      ]
    },
    {
      "cell_type": "code",
      "source": [
        "a2 = '13:41:07'\n",
        "a2_sp = a2.split(':')\n",
        "print(a2_sp)\n",
        "AW3= int(a2_sp[0])*3600+int (a2_sp[1])*60+int (a2_sp[2])\n",
        "\n",
        "b2 = '20:00:18'\n",
        "b2_sp = b2.split(':')\n",
        "print(b2_sp)\n",
        "AW4= int(b2_sp[0])*3600+int (b2_sp[1])*60+int (b2_sp[2])\n",
        "print(f'{a2} - {b2} ความต่างของเวลาเป็นวินาทีเท่ากับ  {AW4-AW3} วินาที')"
      ],
      "metadata": {
        "colab": {
          "base_uri": "https://localhost:8080/"
        },
        "id": "hQ6wFBL5Ny5A",
        "outputId": "5c7ac283-e582-48b3-994f-05f5eaa70c08"
      },
      "execution_count": null,
      "outputs": [
        {
          "output_type": "stream",
          "name": "stdout",
          "text": [
            "['13', '41', '07']\n",
            "['20', '00', '18']\n",
            "13:41:07 - 20:00:18 ความต่างของเวลาเป็นวินาทีเท่ากับ  22751 วินาที\n"
          ]
        }
      ]
    },
    {
      "cell_type": "code",
      "source": [
        "a3 = '21:30:15'\n",
        "a3_sp = a3.split(':')\n",
        "print(a3_sp)\n",
        "AW5= int(a3_sp[0])*3600+int (a3_sp[1])*60+int (a3_sp[2])\n",
        "\n",
        "b3 = '24:00:00'\n",
        "b3_sp = b3.split(':')\n",
        "print(b3_sp)\n",
        "AW6= int(b3_sp[0])*3600+int (b3_sp[1])*60+int (b3_sp[2])\n",
        "print(f'{a3} - {b3} ความต่างของเวลาเป็นวินาทีเท่ากับ {AW6-AW5} วินาที')"
      ],
      "metadata": {
        "colab": {
          "base_uri": "https://localhost:8080/"
        },
        "id": "uQYpTU_TN0AO",
        "outputId": "0329c8bb-4f3a-4433-c892-0f3c85a27e71"
      },
      "execution_count": null,
      "outputs": [
        {
          "output_type": "stream",
          "name": "stdout",
          "text": [
            "['21', '30', '15']\n",
            "['24', '00', '00']\n",
            "21:30:15 - 24:00:00 ความต่างของเวลาเป็นวินาทีเท่ากับ 8985 วินาที\n"
          ]
        }
      ]
    },
    {
      "cell_type": "code",
      "source": [
        "a4 = '00:00:00'\n",
        "a4_sp = a4.split(':')\n",
        "print(a4_sp)\n",
        "AW7= int(a4_sp[0])*3600+int (a4_sp[1])*60+int (a4_sp[2])\n",
        "\n",
        "b4 = '23:59:59'\n",
        "b4_sp = b4.split(':')\n",
        "print(b4_sp)\n",
        "AW8= int(b4_sp[0])*3600+int (b4_sp[1])*60+int (b4_sp[2])\n",
        "print(f'{a4} - {b4} ความต่างของเวลาเป็นวินาทีเท่ากับ  {AW8-AW7} วินาที')"
      ],
      "metadata": {
        "colab": {
          "base_uri": "https://localhost:8080/"
        },
        "id": "24Qw13mlN1kI",
        "outputId": "acbb0408-b50f-4dd3-c50c-ee200cd7948b"
      },
      "execution_count": null,
      "outputs": [
        {
          "output_type": "stream",
          "name": "stdout",
          "text": [
            "['00', '00', '00']\n",
            "['23', '59', '59']\n",
            "00:00:00 - 23:59:59 ความต่างของเวลาเป็นวินาทีเท่ากับ  86399 วินาที\n"
          ]
        }
      ]
    }
  ]
}