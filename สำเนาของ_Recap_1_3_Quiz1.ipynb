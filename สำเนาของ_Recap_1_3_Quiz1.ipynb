{
  "nbformat": 4,
  "nbformat_minor": 0,
  "metadata": {
    "colab": {
      "name": "สำเนาของ Recap 1-3 Quiz1.ipynb",
      "provenance": [],
      "include_colab_link": true
    },
    "kernelspec": {
      "name": "python3",
      "display_name": "Python 3"
    },
    "language_info": {
      "name": "python"
    }
  },
  "cells": [
    {
      "cell_type": "markdown",
      "metadata": {
        "id": "view-in-github",
        "colab_type": "text"
      },
      "source": [
        "<a href=\"https://colab.research.google.com/github/SasiwimonV/Basicprog_DataViz65/blob/main/%E0%B8%AA%E0%B8%B3%E0%B9%80%E0%B8%99%E0%B8%B2%E0%B8%82%E0%B8%AD%E0%B8%87_Recap_1_3_Quiz1.ipynb\" target=\"_parent\"><img src=\"https://colab.research.google.com/assets/colab-badge.svg\" alt=\"Open In Colab\"/></a>"
      ]
    },
    {
      "cell_type": "markdown",
      "source": [
        "Quiz 1 \n",
        "\n",
        "คำนวณเวลาเป็นความต่างของเวลาเป็นวินาทีของช่วงเวลาต่อไปนี้โดยใช้คำสั่ง split() ช่วย และ print ออกมาให้สวยงาม\n",
        "\n",
        "* 09:11:50 - 12:30:15\n",
        "* 13:41:07 - 20:00:18\n",
        "* 21:30:15 - 00:00:00\n",
        "* 00:00:00 - 23:59:59\n",
        "\n",
        "\n",
        "\n",
        "\n",
        "\n"
      ],
      "metadata": {
        "id": "FKKg2s03yfKC"
      }
    },
    {
      "cell_type": "code",
      "execution_count": null,
      "metadata": {
        "id": "JHgL5URByL6e"
      },
      "outputs": [],
      "source": [
        "A = ((12*60*60)+(30*60)+15)-((9*60*60)+(11*60)+50)"
      ]
    },
    {
      "cell_type": "code",
      "source": [
        "print(f'ความต่างของเวลาเป็นวินาที 09:11:50 - 12:30:15 มีค่าเท่ากับ {A} วินาที')"
      ],
      "metadata": {
        "colab": {
          "base_uri": "https://localhost:8080/"
        },
        "id": "d0A_vTkU_CAq",
        "outputId": "cc5db802-a9a0-4274-fa7f-6909e3cad732"
      },
      "execution_count": null,
      "outputs": [
        {
          "output_type": "stream",
          "name": "stdout",
          "text": [
            "ความต่างของเวลาเป็นวินาที 09:11:50 - 12:30:15 มีค่าเท่ากับ 11905 วินาที\n"
          ]
        }
      ]
    },
    {
      "cell_type": "code",
      "source": [
        "B = ((20*60*60)+(0*60)+18)-((13*60*60)+(41*60)+7)"
      ],
      "metadata": {
        "id": "LgAXvcW3_US0"
      },
      "execution_count": null,
      "outputs": []
    },
    {
      "cell_type": "code",
      "source": [
        "print(f'ความต่างของเวลาเป็นวินาที 13:41:07 - 20:00:18 มีค่าเท่ากับ {B} วินาที')"
      ],
      "metadata": {
        "colab": {
          "base_uri": "https://localhost:8080/"
        },
        "id": "B3Opnu0A_gfT",
        "outputId": "c4122f0b-234b-4d7e-b54b-80dff898804e"
      },
      "execution_count": null,
      "outputs": [
        {
          "output_type": "stream",
          "name": "stdout",
          "text": [
            "ความต่างของเวลาเป็นวินาที 13:41:07 - 20:00:18 มีค่าเท่ากับ 22751 วินาที\n"
          ]
        }
      ]
    },
    {
      "cell_type": "code",
      "source": [
        "C = ((24*60*60)+(0*60))-((21*60*60)+(30*60)+15)"
      ],
      "metadata": {
        "id": "sva6aK_MAQlt"
      },
      "execution_count": null,
      "outputs": []
    },
    {
      "cell_type": "code",
      "source": [
        "print(f'ความต่างของเวลาเป็นวินาที 21:30:15 - 00:00:00 มีค่าเท่ากับ {C} วินาที')"
      ],
      "metadata": {
        "colab": {
          "base_uri": "https://localhost:8080/"
        },
        "id": "KFkRhlIXApz8",
        "outputId": "e85d0f07-ec2f-44c8-8637-8f1b2eb89228"
      },
      "execution_count": null,
      "outputs": [
        {
          "output_type": "stream",
          "name": "stdout",
          "text": [
            "ความต่างของเวลาเป็นวินาที 21:30:15 - 00:00:00 มีค่าเท่ากับ 8985 วินาที\n"
          ]
        }
      ]
    },
    {
      "cell_type": "code",
      "source": [
        "D = ((24*60*60)+(0*60))-((23*60*60)+(59*60)+59)"
      ],
      "metadata": {
        "id": "P_ZqcjpIAzYJ"
      },
      "execution_count": null,
      "outputs": []
    },
    {
      "cell_type": "code",
      "source": [
        "print(f'ความต่างของเวลาเป็นวินาที 00:00:00 - 23:59:59 มีค่าเท่ากับ {D} วินาที')"
      ],
      "metadata": {
        "colab": {
          "base_uri": "https://localhost:8080/"
        },
        "id": "74pqb-URA7u1",
        "outputId": "2354bc9c-8477-4e94-c499-5d7a57cddea7"
      },
      "execution_count": null,
      "outputs": [
        {
          "output_type": "stream",
          "name": "stdout",
          "text": [
            "ความต่างของเวลาเป็นวินาที 00:00:00 - 23:59:59 มีค่าเท่ากับ 1 วินาที\n"
          ]
        }
      ]
    }
  ]
}